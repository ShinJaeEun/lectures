{
 "cells": [
  {
   "cell_type": "code",
   "execution_count": 2,
   "metadata": {},
   "outputs": [],
   "source": [
    "import pandas as pd"
   ]
  },
  {
   "cell_type": "code",
   "execution_count": 4,
   "metadata": {},
   "outputs": [
    {
     "data": {
      "text/plain": [
       "'1.1.3'"
      ]
     },
     "execution_count": 4,
     "metadata": {},
     "output_type": "execute_result"
    }
   ],
   "source": [
    "pd.__version__"
   ]
  },
  {
   "cell_type": "code",
   "execution_count": 11,
   "metadata": {},
   "outputs": [
    {
     "name": "stdout",
     "output_type": "stream",
     "text": [
      "0    0.25\n",
      "1    0.50\n",
      "2    0.75\n",
      "3    1.00\n",
      "dtype: float64\n",
      "(4,)\n",
      "RangeIndex(start=0, stop=4, step=1)\n"
     ]
    }
   ],
   "source": [
    "ser = pd.Series([0.25, 0.5, 0.75, 1.0]) # constructor method : 객체를 생성하는 메서드\n",
    "print(ser)\n",
    "print(ser.shape)\n",
    "\n",
    "print(ser.index)"
   ]
  },
  {
   "cell_type": "code",
   "execution_count": 14,
   "metadata": {},
   "outputs": [
    {
     "name": "stdout",
     "output_type": "stream",
     "text": [
      "a    0.25\n",
      "b    0.50\n",
      "c    0.75\n",
      "d    1.00\n",
      "dtype: float64\n",
      "0.5\n"
     ]
    }
   ],
   "source": [
    "ser = pd.Series([0.25, 0.5, 0.75, 1.0], index=['a', 'b', 'c', 'd'])\n",
    "print(ser)\n",
    "\n",
    "print(ser['b'])"
   ]
  },
  {
   "cell_type": "code",
   "execution_count": 19,
   "metadata": {},
   "outputs": [
    {
     "name": "stdout",
     "output_type": "stream",
     "text": [
      "{'a': 1, 2: 'two', 'thrid': True}\n"
     ]
    }
   ],
   "source": [
    "dict = {'a': 1, 2:'two', 'thrid':True} #dict{key1: value1, ...}\n",
    "print(dict)"
   ]
  },
  {
   "cell_type": "code",
   "execution_count": 21,
   "metadata": {},
   "outputs": [
    {
     "name": "stdout",
     "output_type": "stream",
     "text": [
      "California    38332521\n",
      "Texas         26448193\n",
      "New York      19651127\n",
      "Florida       19552860\n",
      "Iilinois      12882135\n",
      "dtype: int64\n",
      "California    38332521\n",
      "Texas         26448193\n",
      "New York      19651127\n",
      "dtype: int64\n"
     ]
    }
   ],
   "source": [
    "population_dict = {'California' : 38332521,\n",
    "                  'Texas' : 26448193,\n",
    "                  'New York' : 19651127,\n",
    "                  'Florida' : 19552860,\n",
    "                  'Iilinois' : 12882135}\n",
    "population = pd.Series(population_dict)\n",
    "print(population)\n",
    "\n",
    "print(population['California':'New York'])"
   ]
  },
  {
   "cell_type": "code",
   "execution_count": 25,
   "metadata": {},
   "outputs": [
    {
     "name": "stdout",
     "output_type": "stream",
     "text": [
      "California    423967\n",
      "Texas         695662\n",
      "New York      141297\n",
      "Florida       170312\n",
      "Iilinois      149995\n",
      "dtype: int64\n"
     ]
    }
   ],
   "source": [
    "ares_dict = {'California' : 423967, 'Texas' : 695662, 'New York' : 141297,\n",
    "            'Florida' : 170312, 'Iilinois' : 149995}\n",
    "area = pd.Series(ares_dict)\n",
    "print(area)"
   ]
  },
  {
   "cell_type": "code",
   "execution_count": 59,
   "metadata": {},
   "outputs": [
    {
     "name": "stdout",
     "output_type": "stream",
     "text": [
      "            population      area\n",
      "California    38332521  38332521\n",
      "Texas         26448193  26448193\n",
      "New York      19651127  19651127\n",
      "Florida       19552860  19552860\n",
      "Iilinois      12882135  12882135\n",
      "Index(['California', 'Texas', 'New York', 'Florida', 'Iilinois'], dtype='object')\n",
      "Index(['population', 'area'], dtype='object')\n",
      "California    38332521\n",
      "Texas         26448193\n",
      "New York      19651127\n",
      "Florida       19552860\n",
      "Iilinois      12882135\n",
      "Name: population, dtype: int64\n"
     ]
    }
   ],
   "source": [
    "df = pd.DataFrame({'population' : population, 'area' : area})\n",
    "print(df)\n",
    "\n",
    "print(df.index)\n",
    "print(df.columns)\n",
    "\n",
    "area = df['population']\n",
    "print(area)"
   ]
  },
  {
   "cell_type": "code",
   "execution_count": 36,
   "metadata": {},
   "outputs": [],
   "source": [
    "import numpy as np"
   ]
  },
  {
   "cell_type": "code",
   "execution_count": 39,
   "metadata": {},
   "outputs": [
    {
     "name": "stdout",
     "output_type": "stream",
     "text": [
      "[[0.91876855 0.42294552]\n",
      " [0.75046782 0.21405103]\n",
      " [0.651555   0.11001695]] \n",
      "\n",
      "                 foo       bar\n",
      "2020-10-13  0.918769  0.422946\n",
      "2020-10-14  0.750468  0.214051\n",
      "2020-10-15  0.651555  0.110017\n"
     ]
    }
   ],
   "source": [
    "arr = np.random.rand(3, 2)\n",
    "print(arr, '\\n')\n",
    "\n",
    "df = pd.DataFrame(arr, columns = ['foo', 'bar'], index=['2020-10-13','2020-10-14','2020-10-15'])\n",
    "print(df)"
   ]
  },
  {
   "cell_type": "code",
   "execution_count": 41,
   "metadata": {},
   "outputs": [
    {
     "name": "stdout",
     "output_type": "stream",
     "text": [
      "a    0.25\n",
      "b    0.50\n",
      "c    0.75\n",
      "d    1.00\n",
      "dtype: float64 \n",
      "\n"
     ]
    },
    {
     "data": {
      "text/plain": [
       "Index(['a', 'b', 'c', 'd'], dtype='object')"
      ]
     },
     "execution_count": 41,
     "metadata": {},
     "output_type": "execute_result"
    }
   ],
   "source": [
    "ser = pd.Series([0.25, 0.5, 0.75, 1.0], index=['a', 'b', 'c', 'd'])\n",
    "print(ser, '\\n')\n",
    "\n",
    "ser.keys()"
   ]
  },
  {
   "cell_type": "code",
   "execution_count": 62,
   "metadata": {},
   "outputs": [
    {
     "name": "stdout",
     "output_type": "stream",
     "text": [
      "[[38332521 38332521]\n",
      " [26448193 26448193]\n",
      " [19651127 19651127]\n",
      " [19552860 19552860]\n",
      " [12882135 12882135]] \n",
      "\n",
      "            California     Texas  New York   Florida  Iilinois\n",
      "population    38332521  26448193  19651127  19552860  12882135\n",
      "area          38332521  26448193  19651127  19552860  12882135 \n",
      "\n",
      "            population      area\n",
      "California    38332521  38332521\n",
      "Texas         26448193  26448193\n"
     ]
    }
   ],
   "source": [
    "print(df.values, '\\n')\n",
    "print(df.T, '\\n')\n",
    "\n",
    "print(df.iloc[:2, :2])\n",
    "print(df.loc[states.d])"
   ]
  }
 ],
 "metadata": {
  "kernelspec": {
   "display_name": "Python 3",
   "language": "python",
   "name": "python3"
  },
  "language_info": {
   "codemirror_mode": {
    "name": "ipython",
    "version": 3
   },
   "file_extension": ".py",
   "mimetype": "text/x-python",
   "name": "python",
   "nbconvert_exporter": "python",
   "pygments_lexer": "ipython3",
   "version": "3.8.5"
  }
 },
 "nbformat": 4,
 "nbformat_minor": 4
}
