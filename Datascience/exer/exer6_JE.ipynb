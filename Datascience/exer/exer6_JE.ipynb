{
 "cells": [
  {
   "cell_type": "code",
   "execution_count": null,
   "metadata": {},
   "outputs": [],
   "source": [
    "# 2021/10/4 녹화강의 Numpy조작"
   ]
  },
  {
   "cell_type": "code",
   "execution_count": 1,
   "metadata": {},
   "outputs": [],
   "source": [
    "import numpy as np"
   ]
  },
  {
   "cell_type": "code",
   "execution_count": 2,
   "metadata": {},
   "outputs": [
    {
     "name": "stdout",
     "output_type": "stream",
     "text": [
      "[0 1 2]\n",
      "[2 3 4]\n",
      "[1 3 5 7]\n"
     ]
    }
   ],
   "source": [
    "\"\"\"\n",
    "np.arrange(start, stop*, step) : 특정 범위의 정수 배열\n",
    "Numpy Array Attributes\n",
    "\"\"\"\n",
    "print(np.arange(3)) # stop\n",
    "print(np.arange(2, 5)) # start, stop\n",
    "print(np.arange(1, 9, 2)) # start, stop, step"
   ]
  },
  {
   "cell_type": "code",
   "execution_count": 31,
   "metadata": {},
   "outputs": [
    {
     "name": "stdout",
     "output_type": "stream",
     "text": [
      "[3 2 5 7 3]\n",
      "[[23 19  0 17 50]\n",
      " [93 93 66  9 94]\n",
      " [54 16 57 85  0]]\n",
      "[[[12 70]\n",
      "  [55  1]\n",
      "  [93 58]\n",
      "  [43 90]\n",
      "  [99 30]]\n",
      "\n",
      " [[89 45]\n",
      "  [ 4 22]\n",
      "  [31 17]\n",
      "  [20 50]\n",
      "  [30 17]]\n",
      "\n",
      " [[27 18]\n",
      "  [31 18]\n",
      "  [51 36]\n",
      "  [51 57]\n",
      "  [32 79]]]\n"
     ]
    }
   ],
   "source": [
    "\"\"\"\n",
    "np.random.seed(num) : 똑같은 난수 배열 (재생산성)\n",
    "np.random.randint(high, size) : 정수로 구성된 난수 배열\n",
    "Random number generator\n",
    "\"\"\"\n",
    "arr1 = np.random.randint(10, size = (5)) # 0~9\n",
    "print(arr1)\n",
    "\n",
    "arr2 = np.random.randint(100, size = (3, 5)) #행, 열\n",
    "print(arr2)\n",
    "\n",
    "arr3 = np.random.randint(100, size = (3, 5, 2)) #문단 행 열\n",
    "print(arr3)"
   ]
  },
  {
   "cell_type": "code",
   "execution_count": 40,
   "metadata": {},
   "outputs": [
    {
     "name": "stdout",
     "output_type": "stream",
     "text": [
      "arr1.ndim =  1\n",
      "arr2.shape =  (3, 5)\n",
      "arr2.size =  15\n",
      "arr2.dtype =  int32\n",
      "arr2.itemsize =  4\n",
      "arr4.itemsize 8\n",
      "arr2.nbyte =  60\n"
     ]
    }
   ],
   "source": [
    "# Attributes\n",
    "\n",
    "print(\"arr1.ndim = \", arr1.ndim) # 차원 개수\n",
    "print(\"arr2.shape = \", arr2.shape) # 배열 차원 크기\n",
    "print(\"arr2.size = \", arr2.size) # 전체배열크기\n",
    "print(\"arr2.dtype = \", arr2.dtype) # 배열 데이터 타입\n",
    "print(\"arr2.itemsize = \", arr2.itemsize) # 배열 원소 별 메모리 크기\n",
    "# 정수 1개의 값은 4byte\n",
    "arr4 = np.array([1.5, 2.3, 3.4]) #float\n",
    "print(\"arr4.itemsize\", arr4.itemsize)\n",
    "print(\"arr2.nbyte = \", arr2.nbytes) # 전체 배열 메모리 크기"
   ]
  },
  {
   "cell_type": "code",
   "execution_count": null,
   "metadata": {},
   "outputs": [],
   "source": [
    "\"\"\"\n",
    "arr[start:stop:step] - 1차원\n",
    "stop는 포함되지 않음 즉, 미만이라는 뜻\n",
    "arr[start1:stop1:step1, start2:stop2:step2] - 2차원\n",
    "\"\"\"\n"
   ]
  },
  {
   "cell_type": "code",
   "execution_count": 53,
   "metadata": {},
   "outputs": [
    {
     "name": "stdout",
     "output_type": "stream",
     "text": [
      "[[5 8 9 5]\n",
      " [0 0 1 7]\n",
      " [6 9 2 4]] \n",
      "\n",
      "[[5 8]\n",
      " [0 0]] \n",
      "\n",
      "[[-1  8]\n",
      " [ 0  0]] \n",
      "\n",
      "[[-1  8  9  5]\n",
      " [ 0  0  1  7]\n",
      " [ 6  9  2  4]]\n"
     ]
    }
   ],
   "source": [
    "\"\"\"\n",
    "Subarrays as no-copy views\n",
    "list는 복사본을 보여주지만, 배열은 뷰를 보여줌\n",
    "\"\"\"\n",
    "np.random.seed(1)\n",
    "arr = np.random.randint(10, size=(3,4))\n",
    "print(arr, '\\n')\n",
    "\n",
    "arr_sub = arr[:2, :2]\n",
    "print(arr_sub, '\\n')\n",
    "\n",
    "arr_sub[0, 0] = -1\n",
    "print(arr_sub, '\\n')\n",
    "\n",
    "print(arr)"
   ]
  },
  {
   "cell_type": "code",
   "execution_count": 56,
   "metadata": {},
   "outputs": [
    {
     "name": "stdout",
     "output_type": "stream",
     "text": [
      "[[5 8 9 5]\n",
      " [0 0 1 7]\n",
      " [6 9 2 4]]\n",
      "[[5 8]\n",
      " [0 0]] \n",
      "\n",
      "[[-1  8]\n",
      " [ 0  0]]\n",
      "[[5 8 9 5]\n",
      " [0 0 1 7]\n",
      " [6 9 2 4]]\n"
     ]
    }
   ],
   "source": [
    "# .copy()를 사용하면 복사본을 생성하여 값을 마음대로 바꿀 수 있다.\n",
    "np.random.seed(1)\n",
    "arr = np.random.randint(10, size=(3,4))\n",
    "print(arr)\n",
    "\n",
    "arr_sub = arr[:2, :2].copy()\n",
    "print(arr_sub, '\\n')\n",
    "\n",
    "arr_sub[0, 0] = -1\n",
    "print(arr_sub)\n",
    "\n",
    "print(arr)"
   ]
  },
  {
   "cell_type": "code",
   "execution_count": 57,
   "metadata": {},
   "outputs": [
    {
     "name": "stdout",
     "output_type": "stream",
     "text": [
      "[1 2 3 4 5 6 7 8 9]\n",
      "[[1 2 3]\n",
      " [4 5 6]\n",
      " [7 8 9]]\n"
     ]
    }
   ],
   "source": [
    "\"\"\"\n",
    "Reshaping of Arrays\n",
    "배열을 재구조\n",
    "\"\"\"\n",
    "\n",
    "arr= np.arange(1, 10)\n",
    "print(arr)\n",
    "\n",
    "grid = arr.reshape(3, 3)\n",
    "print(grid)"
   ]
  },
  {
   "cell_type": "code",
   "execution_count": 62,
   "metadata": {},
   "outputs": [
    {
     "name": "stdout",
     "output_type": "stream",
     "text": [
      "[1 2 3]\n",
      "arr.ndim = 1\n",
      "arr.shape = (3,)\n",
      "[[1 2 3]]\n",
      "arr_new.ndim= 2\n",
      "arr_new.shape= (1, 3)\n"
     ]
    }
   ],
   "source": [
    "#np.newaxis\n",
    "arr= np.array([1, 2, 3])\n",
    "print(arr)\n",
    "print(\"arr.ndim =\", arr.ndim)\n",
    "print(\"arr.shape =\", arr.shape)\n",
    "\n",
    "arr_new = arr[np.newaxis, :]\n",
    "print(arr_new)\n",
    "print(\"arr_new.ndim=\", arr_new.ndim)\n",
    "print(\"arr_new.shape=\", arr_new.shape)"
   ]
  },
  {
   "cell_type": "code",
   "execution_count": 68,
   "metadata": {},
   "outputs": [
    {
     "name": "stdout",
     "output_type": "stream",
     "text": [
      "[1 2 3 4 5 6 7 8 9]\n",
      "[[1 2 3]\n",
      " [4 5 6]\n",
      " [7 8 9]]\n"
     ]
    }
   ],
   "source": [
    "\"\"\"\n",
    "Array concatenation\n",
    "배열의 연결\n",
    "\"\"\"\n",
    "arr_1 = np.array([1, 2, 3])\n",
    "arr_2 = np.array([4, 5, 6])\n",
    "arr_3 = np.array([7, 8, 9])\n",
    "\n",
    "arr_total = np.concatenate([arr_1, arr_2, arr_3])\n",
    "print(arr_total)\n",
    "\n",
    "arr_total = np.vstack([arr_1, arr_2, arr_3])\n",
    "print(arr_total)"
   ]
  },
  {
   "cell_type": "code",
   "execution_count": 73,
   "metadata": {},
   "outputs": [
    {
     "name": "stdout",
     "output_type": "stream",
     "text": [
      "[1, 2, 3, 99, 99, 3, 2, 1]\n",
      "[1 2 3] [99 99] [3 2 1]\n"
     ]
    }
   ],
   "source": [
    "\"\"\"\n",
    "Array splitting\n",
    "\"\"\"\n",
    "\n",
    "arr = [1, 2, 3, 99, 99, 3, 2, 1]\n",
    "print(arr)\n",
    "\n",
    "arr1, arr2, arr3 = np.split(arr, [3, 5])\n",
    "print(arr1, arr2, arr3)"
   ]
  }
 ],
 "metadata": {
  "kernelspec": {
   "display_name": "Python 3",
   "language": "python",
   "name": "python3"
  },
  "language_info": {
   "codemirror_mode": {
    "name": "ipython",
    "version": 3
   },
   "file_extension": ".py",
   "mimetype": "text/x-python",
   "name": "python",
   "nbconvert_exporter": "python",
   "pygments_lexer": "ipython3",
   "version": "3.8.5"
  }
 },
 "nbformat": 4,
 "nbformat_minor": 4
}
