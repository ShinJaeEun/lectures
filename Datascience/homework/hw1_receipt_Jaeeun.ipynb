{
 "cells": [
  {
   "cell_type": "code",
   "execution_count": 2,
   "metadata": {},
   "outputs": [
    {
     "name": "stdout",
     "output_type": "stream",
     "text": [
      "Hello World\n",
      "100\n",
      "3.14\n",
      "My name is Jae eunand i'm tired\n"
     ]
    }
   ],
   "source": [
    "\"\"\"\n",
    "print() Function\n",
    "\"\"\"\n",
    "\n",
    "print(\"Hello World\")\n",
    "print(100)\n",
    "pi = 3.14\n",
    "print(pi)\n",
    "\n",
    "introduce = \"My name is \"\n",
    "name = \"Jae eun\"\n",
    "print(introduce + name + \"and i'm tired\")"
   ]
  },
  {
   "cell_type": "code",
   "execution_count": 4,
   "metadata": {},
   "outputs": [
    {
     "data": {
      "text/plain": [
       "'\\nshift+enter= 현재 실행한거 다음에 셀 등장\\n'"
      ]
     },
     "execution_count": 4,
     "metadata": {},
     "output_type": "execute_result"
    }
   ],
   "source": [
    "\"\"\"\n",
    "shift+enter= 현재 실행한거 다음에 셀 등장\n",
    "\"\"\""
   ]
  },
  {
   "cell_type": "code",
   "execution_count": 7,
   "metadata": {},
   "outputs": [],
   "source": [
    "user_name = \"Shin Jae eun\"\n",
    "user_age = \"21\"\n",
    "user_college = \"Hanshin University\""
   ]
  },
  {
   "cell_type": "code",
   "execution_count": 10,
   "metadata": {},
   "outputs": [
    {
     "name": "stdout",
     "output_type": "stream",
     "text": [
      "x = 1\n",
      "Address of x :  140712622434080\n",
      "x = 2\n",
      "Address of x :  140712622434112\n"
     ]
    }
   ],
   "source": [
    "x = 1\n",
    "print('x =', x)\n",
    "print(\"Address of x : \", id(x))\n",
    "#이건 그냥 노래\n",
    "x = 2\n",
    "print('x =', x)\n",
    "print(\"Address of x : \", id(x))"
   ]
  },
  {
   "cell_type": "code",
   "execution_count": 14,
   "metadata": {},
   "outputs": [],
   "source": [
    "Table = 5\n",
    "Tv = 1\n",
    "Print = 1\n",
    "phone = 6"
   ]
  },
  {
   "cell_type": "code",
   "execution_count": 16,
   "metadata": {},
   "outputs": [],
   "source": [
    "target_weight = 54.5\n",
    "Return_of_Investment = 33.1\n",
    "calorie_eaten_today = 431.2"
   ]
  },
  {
   "cell_type": "code",
   "execution_count": 17,
   "metadata": {},
   "outputs": [],
   "source": [
    "favorite_food = \"Tteokbokki\"\n",
    "favorite_people = \"Minho Song\"\n",
    "favorite_exercise = \"Working\""
   ]
  }
 ],
 "metadata": {
  "kernelspec": {
   "display_name": "Python 3",
   "language": "python",
   "name": "python3"
  },
  "language_info": {
   "codemirror_mode": {
    "name": "ipython",
    "version": 3
   },
   "file_extension": ".py",
   "mimetype": "text/x-python",
   "name": "python",
   "nbconvert_exporter": "python",
   "pygments_lexer": "ipython3",
   "version": "3.8.5"
  }
 },
 "nbformat": 4,
 "nbformat_minor": 4
}
