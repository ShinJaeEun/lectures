{
 "cells": [
  {
   "cell_type": "code",
   "execution_count": 5,
   "metadata": {},
   "outputs": [],
   "source": [
    "# subject 목록 만들기\n",
    "subjects = [\"physics\", \"calculus\", \"poetry\", \"history\"]\n",
    "\n",
    "# grades 목록 만들기\n",
    "grades = [98, 97, 85, 88]\n",
    "\n",
    "# gradebook에 subjects과 grades 값 2차원으로 더하기\n",
    "gradebook = [[\"Physics\", 98], [\"Calculus\", 97], [\"Poetry\", 85], [\"History\", 88]]\n",
    "print(gradebook)"
   ]
  },
  {
   "cell_type": "code",
   "execution_count": 6,
   "metadata": {},
   "outputs": [
    {
     "name": "stdout",
     "output_type": "stream",
     "text": [
      "[['Physics', 98], ['Calculus', 97], ['Poetry', 85], ['History', 88], ['Computer Science', 100], ['Visual Arts', 93]]\n"
     ]
    }
   ],
   "source": [
    "# .append 활용해서 computer science 와 100점 더하기\n",
    "gradebook.append([\"Computer Science\", 100])\n",
    "\n",
    "# .append 활해서 visual.arts 와 93점 더하기\n",
    "gradebook.append([\"Visual Arts\", 93])\n",
    "\n",
    "print(gradebook)"
   ]
  },
  {
   "cell_type": "code",
   "execution_count": 7,
   "metadata": {},
   "outputs": [
    {
     "name": "stdout",
     "output_type": "stream",
     "text": [
      "[['Physics', 98], ['Calculus', 97], ['Poetry', 85], ['History', 88], ['Computer Science', 100], ['Visual Arts', 98]]\n"
     ]
    }
   ],
   "source": [
    "# visual.arts 98점으로 수정\n",
    "gradebook[5][1] = 98\n",
    "\n",
    "print(gradebook)"
   ]
  },
  {
   "cell_type": "code",
   "execution_count": 8,
   "metadata": {},
   "outputs": [
    {
     "name": "stdout",
     "output_type": "stream",
     "text": [
      "[['Physics', 98], ['Calculus', 97], ['Poetry', 'Pass'], ['History', 88], ['Computer Science', 100], ['Visual Arts', 98]]\n"
     ]
    }
   ],
   "source": [
    "# .remove 사용해서 poerty 점수 삭제\n",
    "gradebook[2].remove(85)\n",
    "\n",
    "# .append 사용해서 \"pass\" 추가\n",
    "gradebook[2].append(\"Pass\")\n",
    "\n",
    "print(gradebook)"
   ]
  },
  {
   "cell_type": "code",
   "execution_count": 9,
   "metadata": {},
   "outputs": [],
   "source": [
    "# last_semester_gradebook 선언\n",
    "last_semester_gradebook = [[\"politics\", 80], [\"latin\", 96], [\"dance\", 97], [\"architecture\", 65]]"
   ]
  },
  {
   "cell_type": "code",
   "execution_count": 10,
   "metadata": {},
   "outputs": [
    {
     "name": "stdout",
     "output_type": "stream",
     "text": [
      "[['politics', 80], ['latin', 96], ['dance', 97], ['architecture', 65], ['Physics', 98], ['Calculus', 97], ['Poetry', 'Pass'], ['History', 88], ['Computer Science', 100], ['Visual Arts', 98]]\n"
     ]
    }
   ],
   "source": [
    "# full_gradebook 두 성적표 합치기\n",
    "\n",
    "full_gradebook = last_semester_gradebook + gradebook\n",
    "\n",
    "print(full_gradebook)"
   ]
  }
 ],
 "metadata": {
  "kernelspec": {
   "display_name": "Python 3",
   "language": "python",
   "name": "python3"
  },
  "language_info": {
   "codemirror_mode": {
    "name": "ipython",
    "version": 3
   },
   "file_extension": ".py",
   "mimetype": "text/x-python",
   "name": "python",
   "nbconvert_exporter": "python",
   "pygments_lexer": "ipython3",
   "version": "3.8.5"
  }
 },
 "nbformat": 4,
 "nbformat_minor": 4
}
